{
 "cells": [
  {
   "cell_type": "markdown",
   "id": "df600416",
   "metadata": {
    "pycharm": {
     "name": "#%% md\n"
    }
   },
   "source": [
    "# Results analysis"
   ]
  },
  {
   "cell_type": "markdown",
   "id": "791e7fbb",
   "metadata": {
    "pycharm": {
     "name": "#%% md\n"
    }
   },
   "source": [
    "##  Average throughput and latency computations"
   ]
  },
  {
   "cell_type": "code",
   "execution_count": null,
   "id": "b0b803f4",
   "metadata": {
    "pycharm": {
     "name": "#%%\n"
    }
   },
   "outputs": [],
   "source": [
    "from crayfish_utils import get_measurements\n",
    "\n",
    "measurements = get_measurements(\"../results-final/results\")"
   ]
  },
  {
   "cell_type": "markdown",
   "id": "bd1196eb",
   "metadata": {
    "pycharm": {
     "name": "#%% md\n"
    }
   },
   "source": [
    "Compute average measurements per experiment."
   ]
  },
  {
   "cell_type": "code",
   "execution_count": null,
   "id": "24af71da",
   "metadata": {
    "pycharm": {
     "name": "#%%\n"
    }
   },
   "outputs": [],
   "source": [
    "from collections import defaultdict\n",
    "import copy\n",
    "import pprint\n",
    "from statistics import mean\n",
    "\n",
    "average_measurements = defaultdict(dict)\n",
    "\n",
    "for exp_footprint in measurements:\n",
    "    for stream_processor in measurements[exp_footprint]:\n",
    "        for model_name in measurements[exp_footprint][stream_processor]:\n",
    "            for model_format in measurements[exp_footprint][stream_processor][model_name]: \n",
    "                if exp_footprint not in average_measurements:\n",
    "                    average_measurements[exp_footprint] = {}\n",
    "                if stream_processor not in average_measurements[exp_footprint]:\n",
    "                    average_measurements[exp_footprint][stream_processor] = {}\n",
    "                if model_name not in average_measurements[exp_footprint][stream_processor]:\n",
    "                    average_measurements[exp_footprint][stream_processor][model_name] = {}\n",
    "                if model_format not in average_measurements[exp_footprint][stream_processor][model_name]:\n",
    "                    average_measurements[exp_footprint][stream_processor][model_name][model_format] = {\"throughput\": [], \"latency\": []}\n",
    "                           \n",
    "                measurement = measurements[exp_footprint][stream_processor][model_name][model_format]\n",
    "                for mm in measurement:\n",
    "                    throughput = mm['throughput']\n",
    "                    latency = mm['avg_latency']\n",
    "                    average_measurements[exp_footprint][stream_processor][model_name][model_format][\"throughput\"].append(throughput)\n",
    "                    average_measurements[exp_footprint][stream_processor][model_name][model_format][\"latency\"].append(latency)\n",
    "\n",
    "final_measurements = copy.deepcopy(average_measurements)\n",
    "for exp in average_measurements.keys():\n",
    "    print(exp)\n",
    "    for stream_processor in average_measurements[exp].keys():\n",
    "        for model_name in average_measurements[exp][stream_processor]:\n",
    "            for model_format in average_measurements[exp][stream_processor][model_name]:\n",
    "                throughputs = average_measurements[exp][stream_processor][model_name][model_format][\"throughput\"]\n",
    "                latencies = average_measurements[exp][stream_processor][model_name][model_format][\"latency\"]\n",
    "                print(stream_processor, \"-\", model_name, \"-\", model_format)\n",
    "                print(\"  throughputs:\", throughputs, \"\\n  avg:\", mean(throughputs))\n",
    "                print(\"  latencies:\", latencies, \"\\n  avg:\", mean(latencies))\n",
    "                final_measurements[exp][stream_processor][model_name][model_format][\"throughput\"] = mean(throughputs)\n",
    "                final_measurements[exp][stream_processor][model_name][model_format][\"latency\"] = mean(latencies)# * 0.001\n",
    "    print()\n",
    "\n",
    "pprint.pprint(final_measurements)"
   ]
  },
  {
   "cell_type": "markdown",
   "id": "a9d05654",
   "metadata": {
    "pycharm": {
     "name": "#%% md\n"
    }
   },
   "source": [
    "# Comparison between serving alternatives\n",
    "\n",
    "### Sustainable Throughput\n"
   ]
  },
  {
   "cell_type": "code",
   "execution_count": 11,
   "id": "c253fc7a",
   "metadata": {
    "pycharm": {
     "name": "#%%\n"
    }
   },
   "outputs": [],
   "source": [
    "import matplotlib\n",
    "import matplotlib.pyplot as plt\n",
    "import numpy as np\n",
    "import matplotlib as mpl\n",
    "from itertools import cycle\n",
    "import itertools\n",
    "import seaborn as sns\n",
    "import random "
   ]
  },
  {
   "cell_type": "markdown",
   "id": "76857aa1",
   "metadata": {
    "pycharm": {
     "name": "#%% md\n"
    }
   },
   "source": [
    "##### Flink"
   ]
  },
  {
   "cell_type": "code",
   "execution_count": 13,
   "id": "5e134315",
   "metadata": {
    "pycharm": {
     "name": "#%%\n"
    }
   },
   "outputs": [
    {
     "name": "stdout",
     "output_type": "stream",
     "text": [
      "Sustainable throughput achieved [FFNN, N-N-N setup]\n",
      "Flink DL4J: 600.5736679676427\n",
      "Flink ONNX: 1086.9872857464975\n",
      "Flink TF-SavedModel: 1076.3953671943395\n",
      "Flink TorchServe-CPU: 165.65957116769022\n",
      "Flink TF-Serving-CPU: 457.3471000423886\n"
     ]
    }
   ],
   "source": [
    "th_labels = [\"512_1_1\", \"2048_1_1\", \"8192_1_1\"]\n",
    "ir = [512, 2048, 8192]\n",
    "tfr_flink_nd4j = []\n",
    "tfr_flink_onnx = []\n",
    "tfr_flink_tf = []\n",
    "tfr_flink_torchserve_cpu = []\n",
    "tfr_flink_tf_serving_cpu = []\n",
    "flinK_version = \"flink\"\n",
    "for ts_l in th_labels:\n",
    "    th_exps = final_measurements[ts_l]\n",
    "    if flinK_version in th_exps:\n",
    "        tfr_flink_nd4j.append(th_exps[flinK_version][\"ffnn\"][\"dl4j\"][\"throughput\"])\n",
    "        tfr_flink_onnx.append(th_exps[flinK_version][\"ffnn\"][\"onnx\"][\"throughput\"])\n",
    "        tfr_flink_tf.append(th_exps[flinK_version][\"ffnn\"][\"tf-savedmodel\"][\"throughput\"])\n",
    "        if \"torchserve\" in th_exps[flinK_version][\"ffnn\"]:\n",
    "            tfr_flink_torchserve_cpu.append(th_exps[flinK_version][\"ffnn\"][\"torchserve\"][\"throughput\"])\n",
    "        if \"tf-serving\" in th_exps[flinK_version][\"ffnn\"]:\n",
    "            tfr_flink_tf_serving_cpu.append(th_exps[flinK_version][\"ffnn\"][\"tf-serving\"][\"throughput\"])\n",
    "\n",
    "print(\"Sustainable throughput achieved [FFNN, N-N-N setup]\")\n",
    "print(\"Flink DL4J:\", max(tfr_flink_nd4j))\n",
    "print(\"Flink ONNX:\", max(tfr_flink_onnx))\n",
    "print(\"Flink TF-SavedModel:\", max(tfr_flink_tf))\n",
    "print(\"Flink TorchServe-CPU:\", max(tfr_flink_torchserve_cpu))\n",
    "print(\"Flink TF-Serving-CPU:\", max(tfr_flink_tf_serving_cpu))"
   ]
  },
  {
   "cell_type": "code",
   "execution_count": 14,
   "id": "ac6513ec",
   "metadata": {
    "pycharm": {
     "name": "#%%\n"
    }
   },
   "outputs": [
    {
     "name": "stdout",
     "output_type": "stream",
     "text": [
      "Sustainable throughput achieved [FFNN, 32-N-32 setup]\n",
      "Flink DL4J: 1251.4102970707197\n",
      "Flink ONNX: 4884.101950845772\n",
      "Flink TF-SavedModel: 3347.727174016707\n",
      "Flink TorchServe-CPU: 197.41696127453176\n",
      "Flink TF-Serving-CPU: 746.5666803142982\n"
     ]
    }
   ],
   "source": [
    "th_labels = [\"512_1_1\", \"2048_1_1\", \"8192_1_1\"]\n",
    "ir = [512, 2048, 8192]\n",
    "tfr_flink_nd4j = []\n",
    "tfr_flink_onnx = []\n",
    "tfr_flink_tf = []\n",
    "tfr_flink_torchserve_cpu = []\n",
    "tfr_flink_tf_serving_cpu = []\n",
    "flinK_version = \"flink-32-N-32\"\n",
    "for ts_l in th_labels:\n",
    "    th_exps = final_measurements[ts_l]\n",
    "    if flinK_version in th_exps:\n",
    "        tfr_flink_nd4j.append(th_exps[flinK_version][\"ffnn\"][\"dl4j\"][\"throughput\"])\n",
    "        tfr_flink_onnx.append(th_exps[flinK_version][\"ffnn\"][\"onnx\"][\"throughput\"])\n",
    "        tfr_flink_tf.append(th_exps[flinK_version][\"ffnn\"][\"tf-savedmodel\"][\"throughput\"])\n",
    "        if \"torchserve\" in th_exps[flinK_version][\"ffnn\"]:\n",
    "            tfr_flink_torchserve_cpu.append(th_exps[flinK_version][\"ffnn\"][\"torchserve\"][\"throughput\"])\n",
    "        if \"tf-serving\" in th_exps[flinK_version][\"ffnn\"]:\n",
    "            tfr_flink_tf_serving_cpu.append(th_exps[flinK_version][\"ffnn\"][\"tf-serving\"][\"throughput\"])\n",
    "\n",
    "print(\"Sustainable throughput achieved [FFNN, 32-N-32 setup]\")\n",
    "print(\"Flink DL4J:\", max(tfr_flink_nd4j))\n",
    "print(\"Flink ONNX:\", max(tfr_flink_onnx))\n",
    "print(\"Flink TF-SavedModel:\", max(tfr_flink_tf))\n",
    "print(\"Flink TorchServe-CPU:\", max(tfr_flink_torchserve_cpu))\n",
    "print(\"Flink TF-Serving-CPU:\", max(tfr_flink_tf_serving_cpu))"
   ]
  },
  {
   "cell_type": "code",
   "execution_count": 18,
   "id": "44dd524f",
   "metadata": {
    "pycharm": {
     "name": "#%%\n"
    }
   },
   "outputs": [
    {
     "name": "stdout",
     "output_type": "stream",
     "text": [
      "Sustainable throughput achieved [ResNet50, N-N-N setup]\n",
      "Flink ONNX: 2.168337438131018\n",
      "Flink TorchServe-CPU: 0.6888708428989561\n",
      "Flink TF-Serving-CPU: 1.9186297745448981\n"
     ]
    }
   ],
   "source": [
    "th_labels = [\"256_1_1\", \"512_1_1\", \"2048_1_1\", \"8192_1_1\"]\n",
    "ir = [512, 2048, 8192]\n",
    "tfr_flink_nd4j = []\n",
    "tfr_flink_onnx = []\n",
    "tfr_flink_tf = []\n",
    "tfr_flink_torchserve_cpu = []\n",
    "tfr_flink_tf_serving_cpu = []\n",
    "flinK_version = \"flink\"\n",
    "for ts_l in th_labels:\n",
    "    th_exps = final_measurements[ts_l]\n",
    "    if flinK_version in th_exps:\n",
    "        if \"resnet50\" in th_exps[flinK_version]:\n",
    "            tfr_flink_onnx.append(th_exps[flinK_version][\"resnet50\"][\"onnx\"][\"throughput\"])\n",
    "        if \"resnet50\" in th_exps[flinK_version]:\n",
    "            tfr_flink_torchserve_cpu.append(th_exps[flinK_version][\"resnet50\"][\"torchserve\"][\"throughput\"])\n",
    "            tfr_flink_tf_serving_cpu.append(th_exps[flinK_version][\"resnet50\"][\"tf-serving\"][\"throughput\"])\n",
    "\n",
    "print(\"Sustainable throughput achieved [ResNet50, N-N-N setup]\")\n",
    "print(\"Flink ONNX:\", max(tfr_flink_onnx))\n",
    "print(\"Flink TorchServe-CPU:\", max(tfr_flink_torchserve_cpu))\n",
    "print(\"Flink TF-Serving-CPU:\", max(tfr_flink_tf_serving_cpu))"
   ]
  },
  {
   "cell_type": "markdown",
   "id": "6e133238",
   "metadata": {
    "pycharm": {
     "name": "#%% md\n"
    }
   },
   "source": [
    "### KafkaStreams"
   ]
  },
  {
   "cell_type": "code",
   "execution_count": 19,
   "id": "699bc9b6",
   "metadata": {
    "pycharm": {
     "name": "#%%\n"
    }
   },
   "outputs": [
    {
     "name": "stdout",
     "output_type": "stream",
     "text": [
      "Maximum throughput achieved (FFNN)\n",
      "KafkStreams ONNX: 1911.1996277729818\n",
      "KafkStreams TF-Serving-CPU: 565.9257905271058\n"
     ]
    }
   ],
   "source": [
    "th_labels = [\"512_1_1\", \"2048_1_1\", \"8192_1_1\"]\n",
    "ir = [512, 2048, 8192]\n",
    "tfr_flink_nd4j = []\n",
    "tfr_flink_onnx = []\n",
    "tfr_flink_tf = []\n",
    "tfr_flink_torchserve_cpu = []\n",
    "tfr_flink_tf_serving_cpu = []\n",
    "flinK_version = \"kafkastreams\"\n",
    "for ts_l in th_labels:\n",
    "    th_exps = final_measurements[ts_l]\n",
    "    if flinK_version in th_exps:\n",
    "        if \"onnx\" in th_exps[flinK_version][\"ffnn\"]:\n",
    "            tfr_flink_onnx.append(th_exps[flinK_version][\"ffnn\"][\"onnx\"][\"throughput\"])\n",
    "        if \"tf-serving\" in th_exps[flinK_version][\"ffnn\"]:\n",
    "            tfr_flink_tf_serving_cpu.append(th_exps[flinK_version][\"ffnn\"][\"tf-serving\"][\"throughput\"])\n",
    "\n",
    "print(\"Maximum throughput achieved (FFNN)\")\n",
    "print(\"KafkStreams ONNX:\", max(tfr_flink_onnx))\n",
    "print(\"KafkStreams TF-Serving-CPU:\", max(tfr_flink_tf_serving_cpu))"
   ]
  },
  {
   "cell_type": "markdown",
   "id": "1ae4c35f",
   "metadata": {
    "pycharm": {
     "name": "#%% md\n"
    }
   },
   "source": [
    "### Vertical Scalability\n",
    "Plot throughput for increasing parallelism"
   ]
  },
  {
   "cell_type": "markdown",
   "id": "e8de4cca",
   "metadata": {
    "pycharm": {
     "name": "#%% md\n"
    }
   },
   "source": [
    "#### FLINK"
   ]
  },
  {
   "cell_type": "code",
   "execution_count": 22,
   "id": "c2bfb137",
   "metadata": {
    "pycharm": {
     "name": "#%%\n"
    }
   },
   "outputs": [
    {
     "name": "stdout",
     "output_type": "stream",
     "text": [
      "Parallelism on scoring operator: ['2', '4', '8', '16', '32']\n",
      "\n",
      "Maximum throughput achieved (FFNN)\n",
      "Flink DL4J: [1025.1206620110472, 1619.4087214876104, 2225.314585305209, 1888.778640180114, 1691.3529019105522]\n",
      "Flink ONNX: [1912.1578986609509, 3756.4378797805507, 7391.934295090236, 13106.707695337205, 9541.98624420864]\n",
      "Flink TF-SavedModel: [1762.7150512362507, 3504.067053827142, 6769.9917857433, 11425.08949653439, 10705.41551286077]\n",
      "Flink TorchServe-CPU: [330.49974695908526, 630.764733340563, 1149.865848984285, 1935.8485598577279, 2222.6173541963017]\n",
      "Flink TF-Serving-CPU: [910.676444357338, 1698.5370411719855, 3391.007758127369, 6216.880140956746, 8148.75771583997]\n",
      "\n",
      "Maximum throughput achieved (ResNet50)\n",
      "Flink ONNX: [4.234919738130333, 8.477385698251787, 13.687092918625163, 23.02585080398886, 19.97797416946794]\n",
      "Flink TorchServe-CPU: [1.388001292246122, 2.6859263775768225, 5.427874070801421, 8.550214992277485, 9.532608151770635]\n",
      "Flink TF-Serving-CPU: [3.87553519605419, 4.390825419856871, 4.345496764752004, 4.296947174869494, 4.485965523437121]\n"
     ]
    },
    {
     "data": {
      "image/png": "[encoded data removed]",
      "text/plain": [
       "<Figure size 1008x144 with 2 Axes>"
      ]
     },
     "metadata": {
      "needs_background": "light"
     },
     "output_type": "display_data"
    }
   ],
   "source": [
    "mpl.rcParams['lines.linewidth'] = 4\n",
    "mpl.rcParams['lines.markersize'] = 16\n",
    "font = {'size'   : 12}\n",
    "matplotlib.rc('font', **font)\n",
    "alpha = 1\n",
    "\n",
    "fig, (ax1, ax2) = plt.subplots(1, 2, figsize=(14, 2), gridspec_kw={'width_ratios': [3, 2]})\n",
    "\n",
    "hatches = itertools.cycle(['/', '+', '//', '-', 'x', '\\\\', '*', 'o', 'O', '.'])\n",
    "\n",
    "colors = itertools.cycle(['#FAE3D4', '#ECAB9A', '#DF7461', '#A8D8F0', '#479DD7'])\n",
    "\n",
    "ir = ['2', '4', '8', '16', '32']\n",
    "scl_labels = [\"30000_1_2\", \"30000_1_4\", \"30000_1_8\", \"30000_1_16\", \"30000_1_32\"]\n",
    "\n",
    "sc_flink_nd4j = []\n",
    "sc_flink_onnx = []\n",
    "sc_flink_tf = []\n",
    "sc_flink_torchserve_cpu = []\n",
    "sc_flink_tf_serving_cpu = []\n",
    "flink_version = \"flink\"\n",
    "for sc in scl_labels:\n",
    "    sc_exps = final_measurements[sc]\n",
    "    sc_flink_nd4j.append(sc_exps[flink_version][\"ffnn\"][\"dl4j\"][\"throughput\"])\n",
    "    if \"onnx\" in sc_exps[flink_version][\"ffnn\"]:\n",
    "        sc_flink_onnx.append(sc_exps[flink_version][\"ffnn\"][\"onnx\"][\"throughput\"])\n",
    "    else:\n",
    "        sc_flink_onnx.append(0)\n",
    "    sc_flink_tf.append(sc_exps[flink_version][\"ffnn\"][\"tf-savedmodel\"][\"throughput\"])\n",
    "    if \"torchserve\" in sc_exps[flink_version][\"ffnn\"]:\n",
    "        sc_flink_torchserve_cpu.append(sc_exps[flink_version][\"ffnn\"][\"torchserve\"][\"throughput\"])\n",
    "    else:\n",
    "        sc_flink_torchserve_cpu.append(0)\n",
    "    if \"tf-serving\" in sc_exps[flink_version][\"ffnn\"]:\n",
    "        sc_flink_tf_serving_cpu.append(sc_exps[flink_version][\"ffnn\"][\"tf-serving\"][\"throughput\"])\n",
    "    else:\n",
    "        sc_flink_tf_serving_cpu.append(0)\n",
    "\n",
    "print(\"Parallelism on scoring operator:\", ir)\n",
    "print(\"\\nMaximum throughput achieved (FFNN)\")\n",
    "print(\"Flink DL4J:\", sc_flink_nd4j)\n",
    "print(\"Flink ONNX:\", sc_flink_onnx)\n",
    "print(\"Flink TF-SavedModel:\", sc_flink_tf)\n",
    "print(\"Flink TorchServe-CPU:\", sc_flink_torchserve_cpu)\n",
    "print(\"Flink TF-Serving-CPU:\", sc_flink_tf_serving_cpu)\n",
    "\n",
    "width = 0.15\n",
    "X = np.arange(len(ir))\n",
    "\n",
    "ax1.bar(X, sc_flink_nd4j, width = width, label='dl4j', color=next(colors), hatch = next(hatches), edgecolor='black')\n",
    "ax1.bar(X + width, sc_flink_onnx, width = width, label='onnx', color=next(colors), hatch = next(hatches), edgecolor='black')\n",
    "ax1.bar(X + 2 * width, sc_flink_tf, width = width, label='savedmodel', color=next(colors), hatch = next(hatches), edgecolor='black')\n",
    "ax1.bar(X + 3 * width, sc_flink_torchserve_cpu, width = width, label='torchserve', color=next(colors), hatch = next(hatches), edgecolor='black')\n",
    "ax1.bar(X + 4 * width, sc_flink_tf_serving_cpu, width = width, label='tf-serving', color=next(colors), hatch = next(hatches), edgecolor='black')\n",
    "ax1.set_xticks([i + 0.3 for i in X], ir)\n",
    "ax1.set_xlabel('Scoring Parallelism')\n",
    "ax1.set_ylabel('Throughput (req/s)')\n",
    "ax1.set_axisbelow(True)\n",
    "ax1.grid(True)\n",
    "ax1.set_title('FFNN (ir = 30k req/s)')\n",
    "\n",
    "hatches = itertools.cycle(['/', '+', '//', '-', 'x', '\\\\', '*', 'o', 'O', '.'])\n",
    "colors = itertools.cycle(['#FAE3D4', '#ECAB9A', '#DF7461', '#A8D8F0', '#479DD7'])\n",
    "\n",
    "ir = ['2', '4', '8', '16', '32']\n",
    "scl_labels = [\"256_1_2\", \"256_1_4\", \"256_1_8\", \"256_1_16\", \"256_1_32\"]\n",
    "\n",
    "sc_flink_nd4j = []\n",
    "sc_flink_onnx = []\n",
    "sc_flink_tf = []\n",
    "sc_flink_torchserve_cpu = []\n",
    "sc_flink_tf_serving_cpu = []\n",
    "flink_version = \"flink\"\n",
    "model = \"resnet50\"\n",
    "for sc in scl_labels:\n",
    "    sc_exps = final_measurements[sc]\n",
    "    if \"onnx\" in sc_exps[flink_version][model]:\n",
    "        sc_flink_onnx.append(sc_exps[flink_version][model][\"onnx\"][\"throughput\"])\n",
    "    else:\n",
    "        sc_flink_onnx.append(0)\n",
    "    if \"torchserve\" in sc_exps[flink_version][model]:\n",
    "        sc_flink_torchserve_cpu.append(sc_exps[flink_version][model][\"torchserve\"][\"throughput\"])\n",
    "    else:\n",
    "        sc_flink_torchserve_cpu.append(0)\n",
    "    if \"tf-serving\" in sc_exps[flink_version][model]:\n",
    "        sc_flink_tf_serving_cpu.append(sc_exps[flink_version][model][\"tf-serving\"][\"throughput\"])\n",
    "    else:\n",
    "        sc_flink_tf_serving_cpu.append(0)\n",
    "    sc_flink_nd4j.append(0)\n",
    "    sc_flink_tf.append(0)\n",
    "\n",
    "print(\"\\nMaximum throughput achieved (ResNet50)\")\n",
    "print(\"Flink ONNX:\", sc_flink_onnx)\n",
    "print(\"Flink TorchServe-CPU:\", sc_flink_torchserve_cpu)\n",
    "print(\"Flink TF-Serving-CPU:\", sc_flink_tf_serving_cpu)\n",
    "\n",
    "width = 0.25\n",
    "X = np.arange(len(ir))\n",
    "\n",
    "next(colors)\n",
    "next(hatches)\n",
    "ax2.bar(X + width, sc_flink_onnx, width = width, label='onnx', color=next(colors), hatch = next(hatches), edgecolor='black')\n",
    "next(colors)\n",
    "next(hatches)\n",
    "ax2.bar(X + 2 * width, sc_flink_torchserve_cpu, width = width, label='torchserve', color=next(colors), hatch = next(hatches), edgecolor='black')\n",
    "ax2.bar(X + 3 * width, sc_flink_tf_serving_cpu, width = width, label='tf-serving', color=next(colors), hatch = next(hatches), edgecolor='black')\n",
    "\n",
    "\n",
    "ax2.set_xticks([i + 0.48 for i in X], ir)\n",
    "ax2.set_xlabel('Scoring Parallelism')\n",
    "ax2.set_axisbelow(True)\n",
    "ax2.grid(True)\n",
    "ax2.set_title('ResNet50 (ir = 256 req/s)')\n",
    "\n",
    "ax1.legend(ncol=1, loc='center left', bbox_to_anchor=(1.77, 0.5))\n",
    "plt.subplots_adjust(wspace=0.1, hspace=0)\n",
    "\n",
    "plt.savefig('flink-scabaility.pdf', bbox_inches='tight')"
   ]
  },
  {
   "cell_type": "markdown",
   "id": "399b7495",
   "metadata": {
    "pycharm": {
     "name": "#%% md\n"
    }
   },
   "source": [
    "### Latency\n",
    "Plot latency for varying batch sizes"
   ]
  },
  {
   "cell_type": "markdown",
   "id": "4f89643a",
   "metadata": {
    "pycharm": {
     "name": "#%% md\n"
    }
   },
   "source": [
    "#### FLINK"
   ]
  },
  {
   "cell_type": "code",
   "execution_count": 23,
   "id": "6e6e4af1",
   "metadata": {
    "pycharm": {
     "name": "#%%\n"
    }
   },
   "outputs": [
    {
     "name": "stdout",
     "output_type": "stream",
     "text": [
      "Flink DL4J: [56.05045871559633, 207.04147465437788, 768.6451612903226]\n",
      "Flink ONNX: [53.87844036697248, 167.4401133048662, 758.7926267281107]\n",
      "Flink TF-SavedModel: [59.83333333333333, 190.69761904761904, 771.3732718894009]\n",
      "Flink TorchServe-CPU: [171.54418604651164, 594.6, 2352.3598130841124]\n",
      "Flink TF-Serving-CPU: [60.11162790697674, 173.2186046511628, 757.2093023255813]\n"
     ]
    },
    {
     "data": {
      "image/png": "[encoded data removed]",
      "text/plain": [
       "<Figure size 360x144 with 1 Axes>"
      ]
     },
     "metadata": {
      "needs_background": "light"
     },
     "output_type": "display_data"
    }
   ],
   "source": [
    "mpl.rcParams['lines.linewidth'] = 4\n",
    "mpl.rcParams['lines.markersize'] = 14\n",
    "font = {'size'   : 12}\n",
    "matplotlib.rc('font', **font)\n",
    "alpha = 1\n",
    "\n",
    "fig, ax1 = plt.subplots(1,figsize=(5, 2))\n",
    "\n",
    "hatches = itertools.cycle(['/', '+', '//', '-', 'x', '\\\\', '*', 'o', 'O', '.'])\n",
    "colors = itertools.cycle(['#FAE3D4', '#ECAB9A', '#DF7461', '#A8D8F0', '#479DD7'])\n",
    "\n",
    "bs = ['32', '128', '512']\n",
    "scl_labels = [\"1_32_1\", \"1_128_1\", \"1_512_1\"]\n",
    "\n",
    "sc_flink_nd4j = []\n",
    "sc_flink_onnx = []\n",
    "sc_flink_tf = []\n",
    "sc_flink_torchserve_cpu = []\n",
    "sc_flink_tf_serving_cpu = []\n",
    "flink_version = \"flink\"\n",
    "for sc in scl_labels:\n",
    "    sc_exps = final_measurements[sc]\n",
    "    sc_flink_nd4j.append(sc_exps[flink_version][\"ffnn\"][\"dl4j\"][\"latency\"])\n",
    "    sc_flink_onnx.append(sc_exps[flink_version][\"ffnn\"][\"onnx\"][\"latency\"])\n",
    "    if \"tf-savedmodel\" in sc_exps[flink_version][\"ffnn\"]:\n",
    "        sc_flink_tf.append(sc_exps[flink_version][\"ffnn\"][\"tf-savedmodel\"][\"latency\"])\n",
    "    else:\n",
    "        sc_flink_tf.append(0)\n",
    "    sc_flink_torchserve_cpu.append(sc_exps[flink_version][\"ffnn\"][\"torchserve\"][\"latency\"])\n",
    "    sc_flink_tf_serving_cpu.append(sc_exps[flink_version][\"ffnn\"][\"tf-serving\"][\"latency\"])\n",
    "    \n",
    "print(\"Flink DL4J:\", sc_flink_nd4j)\n",
    "print(\"Flink ONNX:\", sc_flink_onnx)\n",
    "print(\"Flink TF-SavedModel:\", sc_flink_tf)\n",
    "print(\"Flink TorchServe-CPU:\", sc_flink_torchserve_cpu)\n",
    "print(\"Flink TF-Serving-CPU:\", sc_flink_tf_serving_cpu)\n",
    " \n",
    "X = np.arange(len(bs))\n",
    "width = 0.14\n",
    "\n",
    "ax1.bar(X, sc_flink_nd4j, width = width, label='dl4j', color=next(colors), hatch = next(hatches), edgecolor='black')\n",
    "ax1.bar(X + width, sc_flink_onnx, width = width, label='onnx', color=next(colors), hatch = next(hatches), edgecolor='black')\n",
    "ax1.bar(X + 2 * width, sc_flink_tf, width = width, label='savedmodel', color=next(colors), hatch = next(hatches), edgecolor='black')\n",
    "ax1.bar(X + 3 * width, sc_flink_torchserve_cpu, width = width, label='torchserve', color=next(colors), hatch = next(hatches), edgecolor='black')\n",
    "ax1.bar(X + 4 * width, sc_flink_tf_serving_cpu, width = width, label='tf-serving', color=next(colors), hatch = next(hatches), edgecolor='black')\n",
    "\n",
    "ax1.set_xticks([i + 0.22 for i in X], bs)\n",
    "ax1.set_yscale('log')\n",
    "ax1.set_ylim(ymax=3000)\n",
    "ax1.set_xlabel('Batch Size')\n",
    "ax1.set_ylabel('Latency (ms/batch)')\n",
    "ax1.set_axisbelow(True)\n",
    "ax1.grid(True)\n",
    "ax1.legend(loc='center left', bbox_to_anchor=(1, 0.5))\n",
    "plt.savefig('flink-ffnn-latency-aggregates.pdf', bbox_inches='tight')"
   ]
  },
  {
   "cell_type": "markdown",
   "id": "d84625cb",
   "metadata": {
    "pycharm": {
     "name": "#%% md\n"
    }
   },
   "source": [
    "# Comparison between stream processors"
   ]
  },
  {
   "cell_type": "markdown",
   "id": "b4e23acb",
   "metadata": {
    "pycharm": {
     "name": "#%% md\n"
    }
   },
   "source": [
    "## Sustainable throughput"
   ]
  },
  {
   "cell_type": "code",
   "execution_count": 26,
   "id": "261e2c5d",
   "metadata": {
    "pycharm": {
     "name": "#%%\n"
    }
   },
   "outputs": [
    {
     "name": "stdout",
     "output_type": "stream",
     "text": [
      "\n",
      "Maximum throughput achieved\n",
      "KafkaStreams ONNX: 1618.635955973074\n",
      "KafkaStreams TF-Serving-CPU: 534.1561878062143\n",
      "Flink ONNX: 1028.8856229886703\n",
      "Flink TF-Serving: 455.66705032781795\n",
      "Ray ONNX: 118.96717333142291\n",
      "Ray TF-serving: 65.5389102351941\n",
      "Spark SS ONNX: 259.0357899693902\n",
      "Spark SS TF-serving: 232.2164734115858\n"
     ]
    },
    {
     "data": {
      "image/png": "[encoded data removed]",
      "text/plain": [
       "<Figure size 288x144 with 1 Axes>"
      ]
     },
     "metadata": {
      "needs_background": "light"
     },
     "output_type": "display_data"
    }
   ],
   "source": [
    "import math\n",
    "\n",
    "mpl.rcParams['lines.linewidth'] = 4\n",
    "mpl.rcParams['lines.markersize'] = 16\n",
    "font = {'size'   : 12}\n",
    "matplotlib.rc('font', **font)\n",
    "alpha = 1\n",
    "\n",
    "fig, ax1 = plt.subplots(1,figsize=(4, 2))\n",
    "\n",
    "hatches = itertools.cycle(['/', '+', '//', '-', 'x', '\\\\', '*', 'o', 'O', '.'])\n",
    "colors = itertools.cycle(['#5896D1', '#EEC876', '#7661B4', '#5AA56D'])\n",
    "colors_light = itertools.cycle(['#C3D8EE', '#F7E4BC', '#A99CD0', '#94C39F'])\n",
    "\n",
    "th_labels = [\"512_1_1\", \"1024_1_1\", \"4096_1_1\", \"8192_1_1\"]\n",
    "ir = ['onnx', 'tf-serving']\n",
    "tfr_ks_onnx = []\n",
    "tfr_ks_tf_serving = []\n",
    "for ts_l in th_labels:\n",
    "    th_exps = final_measurements[ts_l]\n",
    "    if \"kafkastreams\" in th_exps:\n",
    "        tfr_ks_onnx.append(th_exps[\"kafkastreams\"][\"ffnn\"][\"onnx\"][\"throughput\"])\n",
    "        if \"tf-serving\" in th_exps[\"kafkastreams\"][\"ffnn\"]:\n",
    "            tfr_ks_tf_serving.append(th_exps[\"kafkastreams\"][\"ffnn\"][\"tf-serving\"][\"throughput\"])\n",
    "        else:\n",
    "            tfr_ks_tf_serving.append(0)\n",
    "\n",
    "print(\"\\nMaximum throughput achieved\")\n",
    "print(\"KafkaStreams ONNX:\", max(tfr_ks_onnx))\n",
    "print(\"KafkaStreams TF-Serving-CPU:\", max(tfr_ks_tf_serving))\n",
    "\n",
    "tfr_flink_onnx = []\n",
    "tfr_flink_tf_serving_cpu = []\n",
    "\n",
    "flink_version = \"flink\"\n",
    "for ts_l in th_labels:\n",
    "    th_exps = final_measurements[ts_l]\n",
    "    if flink_version in th_exps:\n",
    "        tfr_flink_onnx.append(th_exps[flink_version][\"ffnn\"][\"onnx\"][\"throughput\"])\n",
    "        if \"tf-serving\" in th_exps[flink_version][\"ffnn\"]:\n",
    "            tfr_flink_tf_serving_cpu.append(th_exps[flink_version][\"ffnn\"][\"tf-serving\"][\"throughput\"])\n",
    "        else:\n",
    "            tfr_flink_tf_serving_cpu.append(0)\n",
    "\n",
    "print(\"Flink ONNX:\", max(tfr_flink_onnx))\n",
    "print(\"Flink TF-Serving:\", max(tfr_flink_tf_serving_cpu))\n",
    "\n",
    "tfr_ray_onnx = []\n",
    "tfr_ray_tf_serving_cpu = []\n",
    "\n",
    "for ts_l in th_labels:\n",
    "    th_exps = final_measurements[ts_l]\n",
    "    if \"ray\" in th_exps:\n",
    "        if \"onnx\" in th_exps[\"ray\"][\"ffnn\"]:\n",
    "            tfr_ray_onnx.append(th_exps[\"ray\"][\"ffnn\"][\"onnx\"][\"throughput\"])\n",
    "        else:\n",
    "            tfr_ray_onnx.append(0)\n",
    "        if \"tf-serving\" in th_exps[\"ray\"][\"ffnn\"]:\n",
    "            tfr_ray_tf_serving_cpu.append(th_exps[\"ray\"][\"ffnn\"][\"tf-serving\"][\"throughput\"])\n",
    "        else:\n",
    "            tfr_ray_tf_serving_cpu.append(0)\n",
    "\n",
    "print(\"Ray ONNX:\", max(tfr_ray_onnx))\n",
    "print(\"Ray TF-serving:\", max(tfr_ray_tf_serving_cpu))\n",
    "\n",
    "\n",
    "tfr_spark_onnx = []\n",
    "tfr_spark_tf_serving_cpu = []\n",
    "\n",
    "for ts_l in th_labels:\n",
    "    th_exps = final_measurements[ts_l]\n",
    "    if \"sparkss\" in th_exps:\n",
    "        if \"onnx\" in th_exps[\"sparkss\"][\"ffnn\"]:\n",
    "            tfr_spark_onnx.append(th_exps[\"sparkss\"][\"ffnn\"][\"onnx\"][\"throughput\"])\n",
    "        else:\n",
    "            tfr_spark_onnx.append(0)\n",
    "        if \"tf-serving\" in th_exps[\"sparkss\"][\"ffnn\"]:\n",
    "            tfr_spark_tf_serving_cpu.append(th_exps[\"sparkss\"][\"ffnn\"][\"tf-serving\"][\"throughput\"])\n",
    "        else:\n",
    "            tfr_spark_tf_serving_cpu.append(0)\n",
    "\n",
    "print(\"Spark SS ONNX:\", max(tfr_spark_onnx))\n",
    "print(\"Spark SS TF-serving:\", max(tfr_spark_tf_serving_cpu))\n",
    "\n",
    "flink_onnx = max(tfr_flink_onnx)\n",
    "flink_tfserving = max(tfr_flink_tf_serving_cpu)\n",
    "ks_onnx = max(tfr_ks_onnx)\n",
    "ks_tfserving = max(tfr_ks_tf_serving)\n",
    "ray_onnx = max(tfr_ray_onnx)\n",
    "ray_tfsavedmodel = max(tfr_ray_tf_serving_cpu)\n",
    "spark_onnx = max(tfr_spark_onnx)\n",
    "spark_tfsavedmodel = max(tfr_spark_tf_serving_cpu)\n",
    "\n",
    "flink = [flink_onnx, flink_tfserving]\n",
    "ks = [ks_onnx, ks_tfserving]\n",
    "ray = [ray_onnx, ray_tfsavedmodel]\n",
    "spark = [spark_onnx, spark_tfsavedmodel]\n",
    "\n",
    "\n",
    "width = 0.17\n",
    "X = np.arange(len(ir))\n",
    "\n",
    "ax1.bar(X, flink, width = width, label='flink', color=[next(colors), next(colors_light)], hatch = next(hatches), edgecolor='black')\n",
    "ax1.bar(X + width, ks, width = width, label='kafkastreams', color=[next(colors), next(colors_light)], hatch = next(hatches), edgecolor='black')\n",
    "ax1.bar(X + 2 * width, spark, width = width, label='spark ss', color=[next(colors), next(colors_light)], hatch = next(hatches), edgecolor='black')\n",
    "bars = ax1.bar(X + 3 * width, ray, width = width, label='ray', color=[next(colors), next(colors_light)], hatch = next(hatches), edgecolor='black')\n",
    "\n",
    "bars[1].set_linestyle('--')\n",
    "\n",
    "ax1.set_xticks([i + 0.25 for i in X], ir)\n",
    "ax1.set_ylabel('Throughput (req/s)')\n",
    "ax1.set_axisbelow(True)\n",
    "ax1.grid(True)\n",
    "ax1.set_yscale('log')\n",
    "\n",
    "handles, labels = ax1.get_legend_handles_labels()\n",
    "unique_labels = list(np.unique(labels))\n",
    "\n",
    "combined_handles = [tuple([h for h, l in zip(handles, labels) if l == label]) for label in unique_labels]\n",
    "\n",
    "ax1.legend(ncol=1, bbox_to_anchor=(1, 0.85))\n",
    "\n",
    "plt.savefig('stream-processors-comparison-throughput.pdf', bbox_inches='tight')"
   ]
  },
  {
   "cell_type": "markdown",
   "id": "2bee269d",
   "metadata": {
    "pycharm": {
     "name": "#%% md\n"
    }
   },
   "source": [
    "### Latency under sustainable throughput"
   ]
  },
  {
   "cell_type": "code",
   "execution_count": 51,
   "id": "ccc38b86",
   "metadata": {
    "pycharm": {
     "name": "#%%\n"
    }
   },
   "outputs": [
    {
     "data": {
      "image/png": "[encoded data removed]",
      "text/plain": [
       "<Figure size 144x144 with 1 Axes>"
      ]
     },
     "metadata": {
      "needs_background": "light"
     },
     "output_type": "display_data"
    }
   ],
   "source": [
    "import glob\n",
    "\n",
    "mpl.rcParams['lines.linewidth'] = 3\n",
    "mpl.rcParams['lines.markersize'] = 16\n",
    "font = {'size'   : 12}\n",
    "matplotlib.rc('font', **font)\n",
    "alpha = 1\n",
    "\n",
    "\n",
    "systems = [\"flink\", \"kafkastreams\", \"ray\", \"sparkss\"]\n",
    "fig, ax1 = plt.subplots(1, 1, figsize=(2, 2))\n",
    "timestamps = 150\n",
    "colors = itertools.cycle(['#5896D1', '#EEC876', '#7661B4', '#5AA56D'])\n",
    "\n",
    "for s in systems:\n",
    "    times = []\n",
    "    tt = []\n",
    "    with open(glob.glob(\"../results-final/results/\" + s + \"/ffnn/onnx/*-ir512-bs1-mr1.csv\")[0]) as f_in:\n",
    "        for line in f_in:\n",
    "            t = list(map(int, line.rstrip('\\n').split(\",\")))\n",
    "            tt.append(t)\n",
    "        tt = sorted(tt, key=lambda x: x[1])\n",
    "        for t in tt:\n",
    "            times.append(t[1] - t[0])\n",
    "\n",
    "    sz = int(0.25 * len(times))\n",
    "    times = times[sz:]\n",
    "    ax1.plot(range(timestamps), times[0:timestamps], label=s, color=next(colors))\n",
    "\n",
    "ax1.set_yscale('log')\n",
    "ax1.set_ylim(ymax=3000000)\n",
    "ax1.set_xlim((0, 100))\n",
    "\n",
    "ax1.grid(True)\n",
    "\n",
    "ax1.legend(ncol=1, loc='center left', bbox_to_anchor=(1.05, 0.45))\n",
    "ax1.set_ylabel('Latency (ms/batch)')\n",
    "ax1.set_xlabel('Request Number')\n",
    "\n",
    "\n",
    "plt.savefig('stream-processors-comparison-latency-over-time-sust-throughp.pdf', bbox_inches='tight')"
   ]
  },
  {
   "cell_type": "markdown",
   "id": "604a301e",
   "metadata": {
    "pycharm": {
     "name": "#%% md\n"
    }
   },
   "source": [
    "### Vertical Scalability"
   ]
  },
  {
   "cell_type": "code",
   "execution_count": 30,
   "id": "9c202510",
   "metadata": {
    "pycharm": {
     "name": "#%%\n"
    }
   },
   "outputs": [
    {
     "name": "stdout",
     "output_type": "stream",
     "text": [
      "Parallelism on scoring operator: [2, 4, 8, 16, 32]\n",
      "\n",
      "Maximum throughput achieved\n",
      "\n",
      "Flink ONNX:\n",
      " [1912.1578986609509, 3756.4378797805507, 7391.934295090236, 13106.707695337205, 9541.98624420864]\n",
      "\n",
      "Flink TF-Serving-CPU:\n",
      " [910.676444357338, 1698.5370411719855, 3391.007758127369, 6216.880140956746, 8148.75771583997]\n",
      "\n",
      "KafkaStreams ONNX:\n",
      " [3154.6332391845403, 5995.314875758022, 11875.749463289205, 22348.658066971562, 23008.252293155812]\n",
      "\n",
      "KafkaStreams TF-Serving-CPU:\n",
      " [1067.6521898674514, 2062.1640235482055, 3996.9475328097355, 7059.18770719415, 9830.264106428993]\n",
      "\n",
      "Ray ONNX:\n",
      " [224.19407815126533, 446.9596655417355, 662.9989108422812, 706.0146353069032, 737.4759985737168]\n",
      "\n",
      "Ray TF-Serving-CPU:\n",
      " [131.99174488404685, 234.53942744081672, 343.5329597532413, 344.1375282508428, 347.225617101072]\n",
      "\n",
      "SparkSS ONNX:\n",
      " [243.8444054400275, 243.4921818992075, 244.51449716274396, 242.98060080097105, 241.80079478851005]\n",
      "\n",
      "SparkSS TF-Serving-CPU:\n",
      " [210.06442537978756, 207.5406029517477, 210.73156649413863, 211.23832984933273, 206.7058721714929]\n"
     ]
    },
    {
     "data": {
      "image/png": "[encoded data removed]",
      "text/plain": [
       "<Figure size 1008x144 with 2 Axes>"
      ]
     },
     "metadata": {
      "needs_background": "light"
     },
     "output_type": "display_data"
    }
   ],
   "source": [
    "from matplotlib.legend_handler import HandlerTuple\n",
    "\n",
    "mpl.rcParams['lines.linewidth'] = 4\n",
    "mpl.rcParams['lines.markersize'] = 16\n",
    "font = {'size'   : 12}\n",
    "matplotlib.rc('font', **font)\n",
    "alpha = 1\n",
    "\n",
    "fig, [ax1, ax2] = plt.subplots(1, 2 ,figsize=(14, 2), sharey=True)\n",
    "\n",
    "ir = ['onnx', 'tf-serving']\n",
    "labels = ['2', '4', '8', '16', '32']\n",
    "scl_labels = [\"30000_1_2\", \"30000_1_4\", \"30000_1_8\", \"30000_1_16\", \"30000_1_32\"]\n",
    "\n",
    "sc_flink_onnx = []\n",
    "sc_flink_tf_serving_cpu = []\n",
    "sc_ks_onnx = []\n",
    "sc_ks_tf_serving_cpu = []\n",
    "sc_ray_onnx = []\n",
    "sc_ray_tf_serving_cpu = []\n",
    "sc_spark_onnx = []\n",
    "sc_spark_tf_serving_cpu = []\n",
    "flink_version = \"flink\"\n",
    "for sc in scl_labels:\n",
    "    sc_exps = final_measurements[sc]\n",
    "    if \"onnx\" in sc_exps[flink_version][\"ffnn\"]:\n",
    "        sc_flink_onnx.append(sc_exps[flink_version][\"ffnn\"][\"onnx\"][\"throughput\"])\n",
    "    else:\n",
    "        sc_flink_onnx.append(1)\n",
    "    sc_flink_tf_serving_cpu.append(sc_exps[flink_version][\"ffnn\"][\"tf-serving\"][\"throughput\"])\n",
    "    if \"kafkastreams\" in sc_exps:\n",
    "        sc_ks_onnx.append(sc_exps[\"kafkastreams\"][\"ffnn\"][\"onnx\"][\"throughput\"])\n",
    "        sc_ks_tf_serving_cpu.append(sc_exps[\"kafkastreams\"][\"ffnn\"][\"tf-serving\"][\"throughput\"])\n",
    "    else:\n",
    "        sc_ks_onnx.append(1)\n",
    "        sc_ks_tf_serving_cpu.append(1)\n",
    "    if \"ray\" in sc_exps:\n",
    "        sc_ray_onnx.append(sc_exps[\"ray\"][\"ffnn\"][\"onnx\"][\"throughput\"])\n",
    "        sc_ray_tf_serving_cpu.append(sc_exps[\"ray\"][\"ffnn\"][\"tf-serving\"][\"throughput\"])\n",
    "    else:\n",
    "        sc_ray_onnx.append(1)\n",
    "        sc_ray_tf_serving_cpu.append(1)\n",
    "    if \"sparkss\" in sc_exps:\n",
    "        sc_spark_onnx.append(sc_exps[\"sparkss\"][\"ffnn\"][\"onnx\"][\"throughput\"])\n",
    "        sc_spark_tf_serving_cpu.append(sc_exps[\"sparkss\"][\"ffnn\"][\"tf-serving\"][\"throughput\"])\n",
    "    else:\n",
    "        sc_spark_onnx.append(1)\n",
    "        sc_spark_tf_serving_cpu.append(1)\n",
    "\n",
    "X = np.arange(len(labels))\n",
    "\n",
    "width = 0.17\n",
    "\n",
    "hatches = itertools.cycle(['/', '+', '//', '-', 'x', '\\\\', '*', 'o', 'O', '.'])\n",
    "colors = itertools.cycle(['#5896D1', '#EEC876', '#7661B4', '#5AA56D'])\n",
    "\n",
    "ax1.bar(X, sc_flink_onnx, width = width, label='flink', color=next(colors), hatch = next(hatches), edgecolor='black')\n",
    "ax1.bar(X + width, sc_ks_onnx, width = width, label='kafkastreams', color=next(colors), hatch = next(hatches), edgecolor='black')\n",
    "ax1.bar(X + 2 * width, sc_spark_onnx, width = width, label='spark ss', color=next(colors), hatch = next(hatches), edgecolor='black')\n",
    "ax1.bar(X + 3 * width, sc_ray_onnx, width = width, label='ray', color=next(colors), hatch = next(hatches), edgecolor='black')\n",
    "ax1.set_yscale('log')\n",
    "\n",
    "\n",
    "hatches = itertools.cycle(['/', '+', '//', '-', 'x', '\\\\', '*', 'o', 'O', '.'])\n",
    "colors = itertools.cycle(['#C3D8EE', '#F7E4BC', '#A99CD0', '#94C39F'])\n",
    "\n",
    "\n",
    "ax2.bar(X, sc_flink_tf_serving_cpu, width = width, label='flink', color=next(colors), hatch = next(hatches), edgecolor='black')\n",
    "ax2.bar(X + width, sc_ks_tf_serving_cpu, width = width, label='kafkastreams', color=next(colors), hatch = next(hatches), edgecolor='black')\n",
    "ax2.bar(X + 2 * width, sc_spark_tf_serving_cpu, width = width, label='spark ss', color=next(colors), hatch = next(hatches), edgecolor='black')\n",
    "bars = ax2.bar(X + 3 * width, sc_ray_tf_serving_cpu, width = width, label='ray', color=next(colors), hatch = next(hatches), edgecolor='black')\n",
    "for bar in bars:\n",
    "    bar.set_linestyle('--')\n",
    "ax2.set_yscale('log')\n",
    "\n",
    "\n",
    "axs = [ax1, ax2]\n",
    "\n",
    "for ax in axs:\n",
    "    ax.set_xlabel('Scoring Parallelism')\n",
    "    ax.set_ylabel('Throughput (req/s)')\n",
    "    ax.set_axisbelow(True)\n",
    "    ax.grid(True)\n",
    "    ax.set_yscale('log')\n",
    "    ax.axhline(y=30000, color='r', linestyle='--', linewidth=2)\n",
    "    ax.set_ylim([1, 200000])\n",
    "    ax.set_xticks([int(i) + 0.26 for i in X], labels)\n",
    "\n",
    "ax1.text(-0.1, 40000, 'input rate', color='r', fontsize=12, fontstyle='oblique')\n",
    "ax1.set_title('onnx', fontsize=12)\n",
    "ax2.set_title('tf-serving', fontsize=12)\n",
    "\n",
    "handles, labels = axs[0].get_legend_handles_labels()\n",
    "handles2, labels2 = axs[1].get_legend_handles_labels()\n",
    "labels = labels + labels2\n",
    "handles = handles + handles2\n",
    "unique_labels = ['flink', 'kafkastreams', 'spark ss', 'ray']\n",
    "combined_handles = [tuple([h for h, l in zip(handles, labels) if l == label]) for label in unique_labels]\n",
    "\n",
    "axs[1].legend(handles=combined_handles, labels=unique_labels, handlelength=3,\n",
    "          handler_map={tuple: HandlerTuple(ndivide=None, pad=0)}, bbox_to_anchor=(1, 0.9))\n",
    "\n",
    "plt.subplots_adjust(wspace=0.1, hspace=0)\n",
    "plt.savefig('stream-processors-comparison-scalability.pdf', bbox_inches='tight')\n",
    "\n",
    "print(\"Parallelism on scoring operator:\", [2, 4, 8, 16, 32])\n",
    "print(\"\\nMaximum throughput achieved\")\n",
    "print(\"\\nFlink ONNX:\\n\", sc_flink_onnx)\n",
    "print(\"\\nFlink TF-Serving-CPU:\\n\", sc_flink_tf_serving_cpu)\n",
    "print(\"\\nKafkaStreams ONNX:\\n\", sc_ks_onnx)\n",
    "print(\"\\nKafkaStreams TF-Serving-CPU:\\n\", sc_ks_tf_serving_cpu)\n",
    "print(\"\\nRay ONNX:\\n\", sc_ray_onnx)\n",
    "print(\"\\nRay TF-Serving-CPU:\\n\", sc_ray_tf_serving_cpu)\n",
    "print(\"\\nSparkSS ONNX:\\n\", sc_spark_onnx)\n",
    "print(\"\\nSparkSS TF-Serving-CPU:\\n\", sc_spark_tf_serving_cpu)"
   ]
  },
  {
   "cell_type": "markdown",
   "id": "fa4b7fbb",
   "metadata": {
    "pycharm": {
     "name": "#%% md\n"
    }
   },
   "source": [
    "### End-to-end Latency"
   ]
  },
  {
   "cell_type": "code",
   "execution_count": 32,
   "id": "e8f754cf",
   "metadata": {
    "pycharm": {
     "name": "#%%\n"
    }
   },
   "outputs": [
    {
     "name": "stdout",
     "output_type": "stream",
     "text": [
      "Parallelism on scoring operator: ['32', '128', '512']\n",
      "\n",
      "Maximum throughput achieved\n",
      "Flink ONNX: [53.87844036697248, 167.4401133048662, 758.7926267281107]\n",
      "Flink TF-Serving-CPU: [60.11162790697674, 173.2186046511628, 757.2093023255813]\n",
      "KafkaStreams ONNX: [134.40552995391704, 201.58986175115206, 513.8778801843318]\n",
      "KafkaStreams TF-Serving-CPU: [136.5325581395349, 232.06451612903226, 522.7213625521765]\n",
      "Ray ONNX: [3047.10997949419, 3113.049213943951, 3394.193779904306]\n",
      "Ray TF-SavedModel: [68.5974358974359, 175.03333333333333, 640.2333333333333]\n",
      "Spark SS ONNX: [3604.6172248803828, 3663.9665071770337, 3907.0813397129186]\n",
      "Spark SS TF-SavedModel: [625.6948717948717, 710.1128205128205, 1042.4435897435897]\n"
     ]
    },
    {
     "data": {
      "image/png": "[encoded data removed]",
      "text/plain": [
       "<Figure size 504x144 with 2 Axes>"
      ]
     },
     "metadata": {
      "needs_background": "light"
     },
     "output_type": "display_data"
    }
   ],
   "source": [
    "mpl.rcParams['lines.linewidth'] = 4\n",
    "mpl.rcParams['lines.markersize'] = 16\n",
    "font = {'size'   : 12}\n",
    "matplotlib.rc('font', **font)\n",
    "alpha = 1\n",
    "\n",
    "fig, [ax1, ax2] = plt.subplots(1, 2 ,figsize=(7, 2), sharey=True)\n",
    "\n",
    "hatches = itertools.cycle(['/', '+', '//', '-', 'x', '\\\\', '*', 'o', 'O', '.'])\n",
    "colors = itertools.cycle(['#5896D1', '#EEC876', '#7661B4', '#5AA56D'])\n",
    "ir = ['32', '128', '512']\n",
    "scl_labels = [\"1_32_1\", \"1_128_1\", \"1_512_1\"]\n",
    "flink_version = \"flink\"\n",
    "\n",
    "sc_flink_onnx = []\n",
    "sc_flink_tf_serving_cpu = []\n",
    "sc_ks_onnx = []\n",
    "sc_ks_tf_serving_cpu = []\n",
    "sc_ray_onnx = []\n",
    "sc_ray_tf_serving_cpu = []\n",
    "sc_spark_onnx = []\n",
    "sc_spark_tf_serving_cpu = []\n",
    "for sc in scl_labels:\n",
    "    sc_exps = final_measurements[sc]\n",
    "    sc_flink_onnx.append(sc_exps[flink_version][\"ffnn\"][\"onnx\"][\"latency\"])\n",
    "    sc_flink_tf_serving_cpu.append(sc_exps[flink_version][\"ffnn\"][\"tf-serving\"][\"latency\"])\n",
    "    sc_ks_onnx.append(sc_exps[\"kafkastreams\"][\"ffnn\"][\"onnx\"][\"latency\"])\n",
    "    sc_ks_tf_serving_cpu.append(sc_exps[\"kafkastreams\"][\"ffnn\"][\"tf-serving\"][\"latency\"])\n",
    "    if \"ray\" in sc_exps:\n",
    "        sc_ray_onnx.append(sc_exps[\"ray\"][\"ffnn\"][\"onnx\"][\"latency\"])\n",
    "        sc_ray_tf_serving_cpu.append(sc_exps[\"ray\"][\"ffnn\"][\"tf-serving\"][\"latency\"])\n",
    "    else:\n",
    "        sc_ray_onnx.append(0)\n",
    "        sc_ray_tf_serving_cpu.append(0)\n",
    "    if \"sparkss\" in sc_exps:\n",
    "        sc_spark_onnx.append(sc_exps[\"sparkss\"][\"ffnn\"][\"onnx\"][\"latency\"])\n",
    "        sc_spark_tf_serving_cpu.append(sc_exps[\"sparkss\"][\"ffnn\"][\"tf-serving\"][\"latency\"])\n",
    "    else:\n",
    "        sc_spark_onnx.append(0)\n",
    "        sc_spark_tf_serving_cpu.append(0)\n",
    "\n",
    "print(\"Parallelism on scoring operator:\", ir)\n",
    "print(\"\\nMaximum throughput achieved\")\n",
    "print(\"Flink ONNX:\", sc_flink_onnx)\n",
    "print(\"Flink TF-Serving-CPU:\", sc_flink_tf_serving_cpu)\n",
    "print(\"KafkaStreams ONNX:\", sc_ks_onnx)\n",
    "print(\"KafkaStreams TF-Serving-CPU:\", sc_ks_tf_serving_cpu)\n",
    "print(\"Ray ONNX:\", sc_ray_onnx)\n",
    "print(\"Ray TF-SavedModel:\", sc_ray_tf_serving_cpu)\n",
    "print(\"Spark SS ONNX:\", sc_spark_onnx)\n",
    "print(\"Spark SS TF-SavedModel:\", sc_spark_tf_serving_cpu)\n",
    "\n",
    "X = np.arange(len(ir))\n",
    "width = 0.17\n",
    "# -----\n",
    "ax1.bar(X, sc_flink_onnx, width = width, label='flink', color=next(colors), hatch = next(hatches), edgecolor='black')\n",
    "ax1.bar(X + width, sc_ks_onnx, width = width, label='kafkastreams', color=next(colors), hatch = next(hatches), edgecolor='black')\n",
    "ax1.bar(X + 2 * width, sc_spark_onnx, width = width, label='spark ss', color=next(colors), hatch = next(hatches), edgecolor='black')\n",
    "ax1.bar(X + 3 * width, sc_ray_onnx, width = width, label='ray', color=next(colors), hatch = next(hatches), edgecolor='black')\n",
    "ax1.set_xticks([i + 0.25 for i in X], ir)\n",
    "ax1.set_ylabel('Latency (ms/batch)')\n",
    "ax1.set_xlabel('Batch Size')\n",
    "ax1.set_title('onnx', fontsize=12)\n",
    "\n",
    "hatches = itertools.cycle(['/', '+', '//', '-', 'x', '\\\\', '*', 'o', 'O', '.'])\n",
    "colors = itertools.cycle(['#C3D8EE', '#F7E4BC', '#A99CD0', '#94C39F'])\n",
    "ax2.bar(X, sc_flink_tf_serving_cpu, width = width, label='flink', color=next(colors), hatch = next(hatches), edgecolor='black')\n",
    "ax2.bar(X + width, sc_ks_tf_serving_cpu, width = width, label='kafkastreams', color=next(colors), hatch = next(hatches), edgecolor='black')\n",
    "ax2.bar(X + 2 * width, sc_spark_tf_serving_cpu, width = width, label='spark ss', color=next(colors), hatch = next(hatches), edgecolor='black')\n",
    "bars = ax2.bar(X + 3 * width, sc_ray_tf_serving_cpu, width = width, label='ray', color=next(colors), hatch = next(hatches), edgecolor='black')\n",
    "ax2.set_xticks([i + 0.25 for i in X], ir)\n",
    "ax2.set_title('tf-serving', fontsize=12)\n",
    "ax2.set_xlabel('Batch Size')\n",
    "\n",
    "for bar in bars:\n",
    "    bar.set_linestyle('--')\n",
    "ax2.set_yscale('log')\n",
    "\n",
    "axs = [ax1, ax2]\n",
    "\n",
    "for ax in axs:\n",
    "    ax.set_axisbelow(True)\n",
    "    ax.grid(True)\n",
    "    ax.set_yscale('log')\n",
    "    ax.axhline(y=1000, color='r', linestyle='--', linewidth=2)\n",
    "\n",
    "ax2.text(1.7, 1200, 'input rate', color='r', fontsize=12, fontstyle='oblique')\n",
    "\n",
    "handles, labels = axs[0].get_legend_handles_labels()\n",
    "handles2, labels2 = axs[1].get_legend_handles_labels()\n",
    "labels = labels + labels2\n",
    "handles = handles + handles2\n",
    "unique_labels = ['flink', 'kafkastreams', 'spark ss', 'ray']\n",
    "combined_handles = [tuple([h for h, l in zip(handles, labels) if l == label]) for label in unique_labels]\n",
    "\n",
    "axs[1].legend(handles=combined_handles, labels=unique_labels, handlelength=3,\n",
    "          handler_map={tuple: HandlerTuple(ndivide=None, pad=0)}, ncol=4, loc='center left', bbox_to_anchor=(-1.35, -0.5))\n",
    "\n",
    "plt.subplots_adjust(wspace=0.1, hspace=0)\n",
    "plt.savefig('stream-processors-comparison-latency.pdf', bbox_inches='tight')"
   ]
  },
  {
   "cell_type": "markdown",
   "id": "7044ca24",
   "metadata": {
    "pycharm": {
     "name": "#%% md\n"
    }
   },
   "source": [
    "# Parallelism Models"
   ]
  },
  {
   "cell_type": "code",
   "execution_count": 34,
   "id": "c6be3d21",
   "metadata": {
    "pycharm": {
     "name": "#%%\n"
    }
   },
   "outputs": [
    {
     "name": "stdout",
     "output_type": "stream",
     "text": [
      "Parallelism on scoring operator: ['2', '4', '8', '16', '32']\n",
      "\n",
      "Maximum throughput achieved\n",
      "Flink 32-N-32 ONNX: [6573.714985974195, 12206.730338002246, 14957.830468848588, 13261.231122755064, 13497.50979937864]\n",
      "Flink N-N-N ONNX: [1912.1578986609509, 3756.4378797805507, 7391.934295090236, 13106.707695337205, 9541.98624420864]\n",
      "Flink N-N-N TF-Serving-CPU: [910.676444357338, 1698.5370411719855, 3391.007758127369, 6216.880140956746, 8148.75771583997]\n",
      "Flink 32-N-32 TF-Serving-CPU: [1327.283805057891, 2550.276768232371, 4799.802676000541, 7501.169645627626, 9458.755216471816]\n",
      "Diffs onnx: ['+243%', '+224%', '+102%', '+1%', '+41%']\n",
      "Diffs tf-savedmodel: ['+45%', '+50%', '+41%', '+20%', '+16%']\n"
     ]
    },
    {
     "data": {
      "image/png": "[encoded data removed]",
      "text/plain": [
       "<Figure size 597.6x144 with 2 Axes>"
      ]
     },
     "metadata": {
      "needs_background": "light"
     },
     "output_type": "display_data"
    }
   ],
   "source": [
    "mpl.rcParams['lines.linewidth'] = 4\n",
    "mpl.rcParams['lines.markersize'] = 16\n",
    "font = {'size'   : 12}\n",
    "matplotlib.rc('font', **font)\n",
    "alpha = 1\n",
    "\n",
    "fig, [ax1, ax2] = plt.subplots(1, 2 ,figsize=(8.3, 2), sharey=True)\n",
    "\n",
    "hatches = itertools.cycle(['/', '+', '//', '-', 'x', '\\\\', '*', 'o', 'O', '.'])\n",
    "colors = itertools.cycle(['#1F77B4', '#FFB74D'])\n",
    "\n",
    "# ir = ['onnx', 'tf-serving']\n",
    "ir = ['2', '4', '8', '16', '32']\n",
    "scl_labels = [\"30000_1_2\", \"30000_1_4\", \"30000_1_8\", \"30000_1_16\", \"30000_1_32\"]\n",
    "\n",
    "sc_flink_onnx = []\n",
    "sc_flink_tf_serving_cpu = []\n",
    "sc_ks_onnx = []\n",
    "sc_ks_tf_serving_cpu = []\n",
    "flink_version = \"flink-32-N-32\"\n",
    "flink_matching = \"flink\"\n",
    "for sc in scl_labels:\n",
    "    sc_exps = final_measurements[sc]\n",
    "    if \"onnx\" in sc_exps[flink_version][\"ffnn\"]:\n",
    "        sc_flink_onnx.append(sc_exps[flink_version][\"ffnn\"][\"onnx\"][\"throughput\"])\n",
    "    else:\n",
    "        sc_flink_onnx.append(1)\n",
    "    sc_flink_tf_serving_cpu.append(sc_exps[flink_version][\"ffnn\"][\"tf-serving\"][\"throughput\"])\n",
    "    if flink_matching in sc_exps:\n",
    "        sc_ks_onnx.append(sc_exps[flink_matching][\"ffnn\"][\"onnx\"][\"throughput\"])\n",
    "        sc_ks_tf_serving_cpu.append(sc_exps[flink_matching][\"ffnn\"][\"tf-serving\"][\"throughput\"])\n",
    "    else:\n",
    "        sc_ks_onnx.append(1)\n",
    "        sc_ks_tf_serving_cpu.append(1)\n",
    "\n",
    "print(\"Parallelism on scoring operator:\", ir)\n",
    "print(\"\\nMaximum throughput achieved\")\n",
    "print(\"Flink 32-N-32 ONNX:\", sc_flink_onnx)\n",
    "print(\"Flink N-N-N ONNX:\", sc_ks_onnx)\n",
    "print(\"Flink N-N-N TF-Serving-CPU:\", sc_ks_tf_serving_cpu)\n",
    "print(\"Flink 32-N-32 TF-Serving-CPU:\", sc_flink_tf_serving_cpu)\n",
    "\n",
    "i = 0\n",
    "diffs_onnx = []\n",
    "while i < len(sc_flink_onnx):\n",
    "    baseline = sc_ks_onnx[i]\n",
    "    new = sc_flink_onnx[i]\n",
    "    if baseline > new:\n",
    "        increase = baseline - new\n",
    "        increase = increase / baseline * 100\n",
    "        diffs_onnx.append('-' + str(math.floor(increase)) + '%')\n",
    "    else:\n",
    "        increase = new - baseline\n",
    "        increase = increase / baseline * 100\n",
    "        diffs_onnx.append('+' +str(math.floor(increase)) + '%')\n",
    "    i = i + 1\n",
    "print(\"Diffs onnx:\", diffs_onnx) \n",
    "\n",
    "i = 0\n",
    "diffs_tfsavedmodel = []\n",
    "while i < len(sc_flink_onnx):\n",
    "    baseline = sc_ks_tf_serving_cpu[i]\n",
    "    new = sc_flink_tf_serving_cpu[i]\n",
    "    if baseline > new:\n",
    "        increase = baseline - new\n",
    "        increase = increase / baseline * 100\n",
    "        diffs_tfsavedmodel.append('-' + str(math.floor(increase)) + '%')\n",
    "    if baseline <= new:\n",
    "        increase = new - baseline\n",
    "        increase = increase / baseline * 100\n",
    "        diffs_tfsavedmodel.append('+' +str(math.floor(increase)) + '%')\n",
    "    i = i + 1\n",
    "print(\"Diffs tf-savedmodel:\", diffs_tfsavedmodel) \n",
    "\n",
    "X = np.arange(len(ir))\n",
    "width = 0.3\n",
    "\n",
    "ax1.bar(X, sc_ks_onnx, width = width, label='flink [N-N-N]', color=next(colors), hatch = next(hatches), edgecolor='black')\n",
    "ax1.bar(X + width, sc_flink_onnx, width = width, label='flink [32-N-32]', color=next(colors), hatch = next(hatches), edgecolor='black')\n",
    "ax1.set_title('onnx', fontsize=12)\n",
    "\n",
    "\n",
    "hatches = itertools.cycle(['/', '+', '//', '-', 'x', '\\\\', '*', 'o', 'O', '.'])\n",
    "colors = itertools.cycle(['#8AB4D4', '#FFDAA7'])\n",
    "\n",
    "ax2.bar(X, sc_ks_tf_serving_cpu, width = width, label='flink [N-N-N]', color=next(colors), hatch = next(hatches), edgecolor='black')\n",
    "ax2.bar(X + width, sc_flink_tf_serving_cpu, width = width, label='flink [32-N-32]', color=next(colors), hatch = next(hatches), edgecolor='black')\n",
    "ax2.set_title('tf-savedmodel', fontsize=12)\n",
    "\n",
    "axs = [ax1, ax2]\n",
    "\n",
    "for ax in axs:\n",
    "    ax.axhline(y=30000, color='r', linestyle='--', linewidth=2)\n",
    "    ax.set_ylim((500, 60000))\n",
    "    ax.set_yscale('log')\n",
    "    ax.set_axisbelow(True)\n",
    "    ax.grid(True)\n",
    "    ax.set_xticks([i + 0.13 for i in X], ir)\n",
    "    ax.set_axisbelow(True)\n",
    "#     ax.set_ylim(ymax=20000)\n",
    "\n",
    "ax1.text(-0.3, 35000, 'input rate', color='r', fontsize=12, fontstyle='oblique')\n",
    "ax1.set_ylabel('Throughput (req/s)')\n",
    "ax1.set_xlabel('Scoring Parallelism')\n",
    "for i in range(len(sc_flink_onnx)):\n",
    "    ax1.text(i + 0.05, sc_flink_onnx[i] + 1000, diffs_onnx[i])\n",
    "    \n",
    "for i in range(1, len(sc_flink_onnx)):\n",
    "    ax2.text(i, sc_flink_tf_serving_cpu[i] + 700, diffs_tfsavedmodel[i])\n",
    "ax2.text(0, sc_flink_tf_serving_cpu[0] + 350, diffs_tfsavedmodel[0])\n",
    "ax2.set_xlabel('Scoring Parallelism')\n",
    "\n",
    "    \n",
    "handles, labels = ax1.get_legend_handles_labels()\n",
    "handles2, labels2 = ax2.get_legend_handles_labels()\n",
    "labels = labels + labels2\n",
    "handles = handles + handles2\n",
    "unique_labels = ['flink [N-N-N]', 'flink [32-N-32]']\n",
    "combined_handles = [tuple([h for h, l in zip(handles, labels) if l == label]) for label in unique_labels]\n",
    "\n",
    "ax1.legend(handles=combined_handles, labels=unique_labels, handlelength=3,\n",
    "          handler_map={tuple: HandlerTuple(ndivide=None, pad=0)}, ncol=4, loc='center left', bbox_to_anchor=(0.5, -0.5))\n",
    "    \n",
    "plt.subplots_adjust(wspace=0.1, hspace=0)\n",
    "\n",
    "\n",
    "# ax2.legend(loc='center left', bbox_to_anchor=(1.05, 0.5))\n",
    "plt.savefig('parallelism-models.pdf', bbox_inches='tight')"
   ]
  },
  {
   "cell_type": "markdown",
   "id": "71c3e275",
   "metadata": {
    "pycharm": {
     "name": "#%% md\n"
    }
   },
   "source": [
    "# Kafka vs no Kafka"
   ]
  },
  {
   "cell_type": "code",
   "execution_count": 36,
   "id": "48bb7206",
   "metadata": {
    "pycharm": {
     "name": "#%%\n"
    }
   },
   "outputs": [
    {
     "name": "stdout",
     "output_type": "stream",
     "text": [
      "Input rates: [1024, 4096, 8192]\n",
      "\n",
      "Maximum throughput achieved\n",
      "Crayfish + Flink ONNX: [4884.101950845772]\n",
      "Flink Standalone ONNX: [5442.183781273582]\n"
     ]
    }
   ],
   "source": [
    "th_labels = [\"1024_1_1\", \"4096_1_1\", \"8192_1_1\"]\n",
    "ir = [1024, 4096, 8192]\n",
    "flink_version = \"flink-32-N-32\"\n",
    "\n",
    "tfr_flink_onnx = []\n",
    "tfr_flink_onnx_standalone = []\n",
    "for ts_l in th_labels:\n",
    "    th_exps = final_measurements[ts_l]\n",
    "    if flink_version in th_exps:\n",
    "        tfr_flink_onnx.append(th_exps[flink_version][\"ffnn\"][\"onnx\"][\"throughput\"])\n",
    "        tfr_flink_onnx_standalone.append(th_exps[flink_version][\"ffnn\"][\"standalone\"][\"throughput\"])\n",
    "\n",
    "print(\"Input rates:\", ir)\n",
    "print(\"\\nMaximum throughput achieved\")\n",
    "print(\"Crayfish + Flink ONNX:\", tfr_flink_onnx)\n",
    "print(\"Flink Standalone ONNX:\", tfr_flink_onnx_standalone)"
   ]
  },
  {
   "cell_type": "code",
   "execution_count": 40,
   "id": "d5e77584",
   "metadata": {
    "pycharm": {
     "name": "#%%\n"
    }
   },
   "outputs": [
    {
     "name": "stdout",
     "output_type": "stream",
     "text": [
      "Kafka (Crayfish, Flink, ONNX): [151.7728431099991, 228.35736811926606, 579.3018433179723]\n",
      "No Kafka (Flink, ONNX): [61.42895263509006, 92.44865864939871, 254.6467213114754]\n"
     ]
    },
    {
     "data": {
      "image/png": "[encoded data removed]",
      "text/plain": [
       "<Figure size 288x144 with 1 Axes>"
      ]
     },
     "metadata": {
      "needs_background": "light"
     },
     "output_type": "display_data"
    }
   ],
   "source": [
    "import math\n",
    "\n",
    "mpl.rcParams['lines.linewidth'] = 4\n",
    "mpl.rcParams['lines.markersize'] = 14\n",
    "font = {'size'   : 10}\n",
    "matplotlib.rc('font', **font)\n",
    "alpha = 1\n",
    "\n",
    "fig, ax1 = plt.subplots(1,figsize=(4, 2))\n",
    "\n",
    "hatches = itertools.cycle(['/', '+', '//', '-', 'x', '\\\\', '*', 'o', 'O', '.'])\n",
    "colors = itertools.cycle(['#6BA8C7', '#295B77'])\n",
    "\n",
    "bs = ['32', '128', '512']\n",
    "scl_labels = [\"1_32_1\", \"1_128_1\", \"1_512_1\"]\n",
    "flink_version = \"flink-32-N-32\"\n",
    "\n",
    "sc_flink_onnx = []\n",
    "sc_flink_onnx_standalone = []\n",
    "for sc in scl_labels:\n",
    "    sc_exps = final_measurements[sc]\n",
    "    sc_flink_onnx.append(sc_exps[flink_version][\"ffnn\"][\"onnx\"][\"latency\"])\n",
    "    sc_flink_onnx_standalone.append(sc_exps[flink_version][\"ffnn\"][\"standalone\"][\"latency\"])\n",
    "\n",
    "print(\"Kafka (Crayfish, Flink, ONNX):\", sc_flink_onnx)\n",
    "print(\"No Kafka (Flink, ONNX):\", sc_flink_onnx_standalone)\n",
    "\n",
    "for i in range(len(sc_flink_onnx)):\n",
    "    baseline = sc_flink_onnx_standalone[i]\n",
    "    new = sc_flink_onnx[i]\n",
    "    increase = new - baseline\n",
    "    increase = increase / baseline * 100\n",
    "    \n",
    "i = 0\n",
    "c = []\n",
    "while i < len(sc_flink_onnx):\n",
    "    new = sc_flink_onnx_standalone[i]\n",
    "    baseline = sc_flink_onnx[i]\n",
    "    if baseline > new:\n",
    "        increase = baseline - new\n",
    "        increase = increase / baseline * 100\n",
    "        c.append('-' + str(math.floor(increase)) + '%')\n",
    "    if baseline < new:\n",
    "        increase = new - baseline\n",
    "        increase = increase / baseline * 100\n",
    "        c.append('+' +str(math.floor(increase)) + '%')\n",
    "    i = i + 1\n",
    "X = np.arange(len(bs))\n",
    "width = 0.3\n",
    "\n",
    "ax1.bar(X, sc_flink_onnx, width = width, label='kafka', color=next(colors), hatch = next(hatches), edgecolor='black')\n",
    "ax1.bar(X + width, sc_flink_onnx_standalone, width = width, label='no-kafka', color=next(colors), hatch = next(hatches), edgecolor='black')\n",
    "\n",
    "for i, v in enumerate(sc_flink_onnx_standalone):\n",
    "    ax1.text(i + 0.2, v + 20, c[i])\n",
    "\n",
    "ax1.set_xticks([i + 0.15 for i in X], bs)\n",
    "ax1.set_ylim(ymax=650)\n",
    "ax1.legend(ncol=1)\n",
    "ax1.set_xlabel('Batch Size (datapoints/batch)')\n",
    "ax1.set_ylabel('Latency (ms/batch)')\n",
    "ax1.set_axisbelow(True)\n",
    "ax1.grid(True)\n",
    "plt.savefig('flink-onnx-standalone-latency-comparison.pdf', bbox_inches='tight')"
   ]
  },
  {
   "cell_type": "markdown",
   "id": "f21171b1",
   "metadata": {},
   "source": [
    "### Bursty Workloads Analysis"
   ]
  },
  {
   "cell_type": "code",
   "execution_count": 4,
   "id": "fef64c31",
   "metadata": {},
   "outputs": [
    {
     "data": {
      "image/png": "[encoded data removed]",
      "text/plain": [
       "<Figure size 432x288 with 1 Axes>"
      ]
     },
     "metadata": {
      "needs_background": "light"
     },
     "output_type": "display_data"
    }
   ],
   "source": [
    "import csv\n",
    "import matplotlib.pyplot as plt\n",
    "\n",
    "# Specify the path to your CSV file\n",
    "# csv_file_path = '../results/flink/ffnn/onnx/20231218113054684-ir600-bs1-mr1.csv'\n",
    "\n",
    "csv_file_path = '../results/flink/ffnn/onnx/20231218132341222-ir50-bs1-mr1.csv'\n",
    "\n",
    "# Lists to store the data from the CSV file\n",
    "timestamps = []\n",
    "timestamps2 = []\n",
    "\n",
    "# Read the CSV file and extract timestamps\n",
    "with open(csv_file_path, 'r') as file:\n",
    "    csv_reader = csv.reader(file)\n",
    "    for row in csv_reader:\n",
    "        # Assuming your CSV file has a timestamp in the first column\n",
    "        timestamps.append(int(row[0]))\n",
    "        timestamps2.append(int(row[1]))\n",
    "        \n",
    "timestamps.sort()\n",
    "\n",
    "timestamps = timestamps[2000:]\n",
    "\n",
    "# print(timestamps)\n",
    "\n",
    "# print(timestamps[-1] - timestamps[0])\n",
    "\n",
    "# Calculate time differences between consecutive events\n",
    "time_diffs = [timestamps[i] - timestamps[i - 1] for i in range(1, len(timestamps))]\n",
    "\n",
    "# Plotting the time differences\n",
    "plt.plot(time_diffs, label='Inter-arrival Time Differences')\n",
    "\n",
    "# Adding labels and title\n",
    "plt.xlabel('Event Index')\n",
    "plt.ylabel('Time Differences')\n",
    "plt.title('Inter-arrival Time Differences Plot')\n",
    "\n",
    "# Adding a legend\n",
    "plt.legend()\n",
    "\n",
    "# Display the plot\n",
    "plt.show()"
   ]
  }
 ],
 "metadata": {
  "kernelspec": {
   "display_name": "Python 3 (ipykernel)",
   "language": "python",
   "name": "python3"
  },
  "language_info": {
   "codemirror_mode": {
    "name": "ipython",
    "version": 3
   },
   "file_extension": ".py",
   "mimetype": "text/x-python",
   "name": "python",
   "nbconvert_exporter": "python",
   "pygments_lexer": "ipython3",
   "version": "3.9.17"
  }
 },
 "nbformat": 4,
 "nbformat_minor": 5
}
